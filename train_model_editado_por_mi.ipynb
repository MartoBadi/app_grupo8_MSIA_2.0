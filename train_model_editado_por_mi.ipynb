{
  "cells": [
    {
      "cell_type": "markdown",
      "metadata": {
        "id": "view-in-github",
        "colab_type": "text"
      },
      "source": [
        "<a href=\"https://colab.research.google.com/github/MartoBadi/app_grupo8_MSIA_2.0/blob/main/train_model_editado_por_mi.ipynb\" target=\"_parent\"><img src=\"https://colab.research.google.com/assets/colab-badge.svg\" alt=\"Open In Colab\"/></a>"
      ]
    },
    {
      "cell_type": "code",
      "execution_count": null,
      "id": "c3cca3b0",
      "metadata": {
        "lines_to_next_cell": 1,
        "id": "c3cca3b0"
      },
      "outputs": [],
      "source": [
        "import tensorflow as tf\n",
        "from tensorflow.keras.preprocessing.image import ImageDataGenerator\n",
        "from tensorflow.keras.models import Sequential\n",
        "from tensorflow.keras.layers import Conv2D, MaxPooling2D, Flatten, Dense, Dropout\n",
        "from tensorflow.keras.callbacks import EarlyStopping, ModelCheckpoint\n",
        "import os"
      ]
    },
    {
      "cell_type": "code",
      "source": [
        "# Contamos las imágenes de cada directorio dentro del directorio seg_test para pasar la mitad a una carpeta del set de validación\n",
        "\n",
        "import os\n",
        "\n",
        "# Especifica la ruta de la carpeta\n",
        "carpeta = '/content/seg_test/bosque'\n",
        "\n",
        "# Cuenta el número de archivos en la carpeta\n",
        "num_archivos = len(os.listdir(carpeta))\n",
        "\n",
        "print(f'Número de archivos en la carpeta bosque: {num_archivos}')\n",
        "\n",
        "# Especifica la ruta de la carpeta\n",
        "carpeta = '/content/seg_test/calle'\n",
        "\n",
        "# Cuenta el número de archivos en la carpeta\n",
        "num_archivos = len(os.listdir(carpeta))\n",
        "\n",
        "print(f'Número de archivos en la carpeta calle: {num_archivos}')\n",
        "\n",
        "# Especifica la ruta de la carpeta\n",
        "carpeta = '/content/seg_test/construcciones'\n",
        "\n",
        "# Cuenta el número de archivos en la carpeta\n",
        "num_archivos = len(os.listdir(carpeta))\n",
        "\n",
        "print(f'Número de archivos en la carpeta construcciones: {num_archivos}')\n",
        "\n",
        "# Especifica la ruta de la carpeta\n",
        "carpeta = '/content/seg_test/glaciar'\n",
        "\n",
        "# Cuenta el número de archivos en la carpeta\n",
        "num_archivos = len(os.listdir(carpeta))\n",
        "\n",
        "print(f'Número de archivos en la carpeta glaciar: {num_archivos}')\n",
        "\n",
        "# Especifica la ruta de la carpeta\n",
        "carpeta = '/content/seg_test/mar'\n",
        "\n",
        "# Cuenta el número de archivos en la carpeta\n",
        "num_archivos = len(os.listdir(carpeta))\n",
        "\n",
        "print(f'Número de archivos en la carpeta mar: {num_archivos}')\n",
        "\n",
        "# Especifica la ruta de la carpeta\n",
        "carpeta = '/content/seg_test/montaña'\n",
        "\n",
        "# Cuenta el número de archivos en la carpeta\n",
        "num_archivos = len(os.listdir(carpeta))\n",
        "\n",
        "print(f'Número de archivos en la carpeta montaña: {num_archivos}')"
      ],
      "metadata": {
        "colab": {
          "base_uri": "https://localhost:8080/"
        },
        "id": "PNBibjDaE_TM",
        "outputId": "f51dd0b3-1956-4437-cc76-46fe4bf1fdd7"
      },
      "id": "PNBibjDaE_TM",
      "execution_count": 13,
      "outputs": [
        {
          "output_type": "stream",
          "name": "stdout",
          "text": [
            "Número de archivos en la carpeta bosque: 474\n",
            "Número de archivos en la carpeta calle: 474\n",
            "Número de archivos en la carpeta construcciones: 437\n",
            "Número de archivos en la carpeta glaciar: 553\n",
            "Número de archivos en la carpeta mar: 510\n",
            "Número de archivos en la carpeta montaña: 525\n"
          ]
        }
      ]
    },
    {
      "cell_type": "code",
      "source": [
        "# Como en el repositorio de Github había solo un directorio para el set de entrenamiento y otro para el set de prueba, movemos la mitad de los datos o la mitad más uno a la carpeta del set de validación.\n",
        "\n",
        "import os\n",
        "import shutil\n",
        "\n",
        "# Especifica las rutas de los directorios\n",
        "directorio_origen = '/content/seg_test/bosque'\n",
        "directorio_destino = '/content/set_val/bosque'\n",
        "\n",
        "# Obtén la lista de archivos en el directorio de origen\n",
        "archivos = os.listdir(directorio_origen)\n",
        "\n",
        "# Asegúrate de que el directorio de destino exista\n",
        "os.makedirs(directorio_destino, exist_ok=True)\n",
        "\n",
        "# Mueve los archivos\n",
        "for archivo in archivos[:237]:\n",
        "    ruta_origen = os.path.join(directorio_origen, archivo)\n",
        "    ruta_destino = os.path.join(directorio_destino, archivo)\n",
        "    if os.path.isfile(ruta_origen):\n",
        "        shutil.move(ruta_origen, ruta_destino)\n",
        "\n",
        "# Especifica las rutas de los directorios\n",
        "directorio_origen = '/content/seg_test/calle'\n",
        "directorio_destino = '/content/set_val/calle'\n",
        "\n",
        "# Obtén la lista de archivos en el directorio de origen\n",
        "archivos = os.listdir(directorio_origen)\n",
        "\n",
        "# Asegúrate de que el directorio de destino exista\n",
        "os.makedirs(directorio_destino, exist_ok=True)\n",
        "\n",
        "# Mueve los archivos\n",
        "for archivo in archivos[:237]:\n",
        "    ruta_origen = os.path.join(directorio_origen, archivo)\n",
        "    ruta_destino = os.path.join(directorio_destino, archivo)\n",
        "    if os.path.isfile(ruta_origen):\n",
        "        shutil.move(ruta_origen, ruta_destino)\n",
        "\n",
        "# Especifica las rutas de los directorios\n",
        "directorio_origen = '/content/seg_test/construcciones'\n",
        "directorio_destino = '/content/set_val/construcciones'\n",
        "\n",
        "# Obtén la lista de archivos en el directorio de origen\n",
        "archivos = os.listdir(directorio_origen)\n",
        "\n",
        "# Asegúrate de que el directorio de destino exista\n",
        "os.makedirs(directorio_destino, exist_ok=True)\n",
        "\n",
        "# Mueve los archivos\n",
        "for archivo in archivos[:219]:\n",
        "    ruta_origen = os.path.join(directorio_origen, archivo)\n",
        "    ruta_destino = os.path.join(directorio_destino, archivo)\n",
        "    if os.path.isfile(ruta_origen):\n",
        "        shutil.move(ruta_origen, ruta_destino)\n",
        "\n",
        "# Especifica las rutas de los directorios\n",
        "directorio_origen = '/content/seg_test/glaciar'\n",
        "directorio_destino = '/content/set_val/glaciar'\n",
        "\n",
        "# Obtén la lista de archivos en el directorio de origen\n",
        "archivos = os.listdir(directorio_origen)\n",
        "\n",
        "# Asegúrate de que el directorio de destino exista\n",
        "os.makedirs(directorio_destino, exist_ok=True)\n",
        "\n",
        "# Mueve los archivos\n",
        "for archivo in archivos[:277]:\n",
        "    ruta_origen = os.path.join(directorio_origen, archivo)\n",
        "    ruta_destino = os.path.join(directorio_destino, archivo)\n",
        "    if os.path.isfile(ruta_origen):\n",
        "        shutil.move(ruta_origen, ruta_destino)\n",
        "\n",
        "# Especifica las rutas de los directorios\n",
        "directorio_origen = '/content/seg_test/mar'\n",
        "directorio_destino = '/content/set_val/mar'\n",
        "\n",
        "# Obtén la lista de archivos en el directorio de origen\n",
        "archivos = os.listdir(directorio_origen)\n",
        "\n",
        "# Asegúrate de que el directorio de destino exista\n",
        "os.makedirs(directorio_destino, exist_ok=True)\n",
        "\n",
        "# Mueve los archivos\n",
        "for archivo in archivos[:255]:\n",
        "    ruta_origen = os.path.join(directorio_origen, archivo)\n",
        "    ruta_destino = os.path.join(directorio_destino, archivo)\n",
        "    if os.path.isfile(ruta_origen):\n",
        "        shutil.move(ruta_origen, ruta_destino)\n",
        "\n",
        "# Especifica las rutas de los directorios\n",
        "directorio_origen = '/content/seg_test/montaña'\n",
        "directorio_destino = '/content/set_val/montaña'\n",
        "\n",
        "# Obtén la lista de archivos en el directorio de origen\n",
        "archivos = os.listdir(directorio_origen)\n",
        "\n",
        "# Asegúrate de que el directorio de destino exista\n",
        "os.makedirs(directorio_destino, exist_ok=True)\n",
        "\n",
        "# Mueve los archivos\n",
        "for archivo in archivos[:263]:\n",
        "    ruta_origen = os.path.join(directorio_origen, archivo)\n",
        "    ruta_destino = os.path.join(directorio_destino, archivo)\n",
        "    if os.path.isfile(ruta_origen):\n",
        "        shutil.move(ruta_origen, ruta_destino)\n"
      ],
      "metadata": {
        "id": "w0d2T6vwjxhj"
      },
      "id": "w0d2T6vwjxhj",
      "execution_count": 14,
      "outputs": []
    },
    {
      "cell_type": "code",
      "execution_count": 15,
      "id": "330bdcdc",
      "metadata": {
        "lines_to_next_cell": 1,
        "id": "330bdcdc"
      },
      "outputs": [],
      "source": [
        "def train_model():\n",
        "    # Define paths\n",
        "    train_dir = 'seg_train'\n",
        "    val_dir = 'set_val'\n",
        "    test_dir = 'seg_test'\n",
        "    model_save_path = 'model.keras'\n",
        "\n",
        "    # Image data generators\n",
        "    train_datagen = ImageDataGenerator(rescale=1.0/255.0)\n",
        "    val_datagen = ImageDataGenerator(rescale=1.0/255.0)\n",
        "    test_datagen = ImageDataGenerator(rescale=1.0/255.0)\n",
        "\n",
        "    train_generator = train_datagen.flow_from_directory(\n",
        "        train_dir,\n",
        "        target_size=(150, 150),\n",
        "        batch_size=32,\n",
        "        class_mode='categorical'\n",
        "    )\n",
        "\n",
        "    val_generator = val_datagen.flow_from_directory (\n",
        "        val_dir,\n",
        "        target_size=(150, 150),\n",
        "        batch_size=32,\n",
        "        class_mode='categorical'\n",
        "    )\n",
        "\n",
        "    test_generator = test_datagen.flow_from_directory(\n",
        "        test_dir,\n",
        "        target_size=(150, 150),\n",
        "        batch_size=32,\n",
        "        class_mode='categorical'\n",
        "    )\n",
        "\n",
        "    # Build CNN model\n",
        "    model = Sequential([\n",
        "        Conv2D(32, (3, 3), activation='relu', input_shape=(150, 150, 3)),\n",
        "        MaxPooling2D((2, 2)),\n",
        "        Conv2D(64, (3, 3), activation='relu'),\n",
        "        MaxPooling2D((2, 2)),\n",
        "        Conv2D(128, (3, 3), activation='relu'),\n",
        "        MaxPooling2D((2, 2)),\n",
        "        Flatten(),\n",
        "        Dense(512, activation='relu'),\n",
        "        Dropout(0.5),\n",
        "        Dense(6, activation='softmax')  # 6 classes\n",
        "    ])\n",
        "\n",
        "    model.compile(optimizer='adam', loss='categorical_crossentropy', metrics=['accuracy'])\n",
        "\n",
        "    # Callbacks\n",
        "    early_stopping = EarlyStopping(monitor='val_loss', patience=10)\n",
        "    model_checkpoint = ModelCheckpoint(model_save_path, save_best_only=True, monitor='val_loss')\n",
        "\n",
        "    # Train the model\n",
        "    model.fit(\n",
        "        train_generator,\n",
        "        epochs=8,\n",
        "        validation_data=val_generator,\n",
        "        callbacks=[early_stopping, model_checkpoint]\n",
        "    )\n",
        "\n",
        "    # Save the model\n",
        "    model.save(\"/content/model.h5\")"
      ]
    },
    {
      "cell_type": "code",
      "execution_count": 16,
      "id": "5cc3c89f",
      "metadata": {
        "id": "5cc3c89f",
        "colab": {
          "base_uri": "https://localhost:8080/",
          "height": 463
        },
        "outputId": "8de74ed7-c670-48e9-e3a2-4e47941d06df"
      },
      "outputs": [
        {
          "output_type": "stream",
          "name": "stdout",
          "text": [
            "Found 2076 images belonging to 7 classes.\n",
            "Found 1488 images belonging to 7 classes.\n",
            "Found 1485 images belonging to 7 classes.\n"
          ]
        },
        {
          "output_type": "stream",
          "name": "stderr",
          "text": [
            "/usr/local/lib/python3.10/dist-packages/keras/src/layers/convolutional/base_conv.py:107: UserWarning: Do not pass an `input_shape`/`input_dim` argument to a layer. When using Sequential models, prefer using an `Input(shape)` object as the first layer in the model instead.\n",
            "  super().__init__(activity_regularizer=activity_regularizer, **kwargs)\n"
          ]
        },
        {
          "output_type": "stream",
          "name": "stdout",
          "text": [
            "Epoch 1/8\n"
          ]
        },
        {
          "output_type": "error",
          "ename": "ValueError",
          "evalue": "Arguments `target` and `output` must have the same shape. Received: target.shape=(None, 7), output.shape=(None, 6)",
          "traceback": [
            "\u001b[0;31m---------------------------------------------------------------------------\u001b[0m",
            "\u001b[0;31mValueError\u001b[0m                                Traceback (most recent call last)",
            "\u001b[0;32m<ipython-input-16-1c3c8b5f4c72>\u001b[0m in \u001b[0;36m<cell line: 1>\u001b[0;34m()\u001b[0m\n\u001b[1;32m      1\u001b[0m \u001b[0;32mif\u001b[0m \u001b[0m__name__\u001b[0m \u001b[0;34m==\u001b[0m \u001b[0;34m\"__main__\"\u001b[0m\u001b[0;34m:\u001b[0m\u001b[0;34m\u001b[0m\u001b[0;34m\u001b[0m\u001b[0m\n\u001b[0;32m----> 2\u001b[0;31m     \u001b[0mtrain_model\u001b[0m\u001b[0;34m(\u001b[0m\u001b[0;34m)\u001b[0m\u001b[0;34m\u001b[0m\u001b[0;34m\u001b[0m\u001b[0m\n\u001b[0m",
            "\u001b[0;32m<ipython-input-15-e772b30033ca>\u001b[0m in \u001b[0;36mtrain_model\u001b[0;34m()\u001b[0m\n\u001b[1;32m     53\u001b[0m \u001b[0;34m\u001b[0m\u001b[0m\n\u001b[1;32m     54\u001b[0m     \u001b[0;31m# Train the model\u001b[0m\u001b[0;34m\u001b[0m\u001b[0;34m\u001b[0m\u001b[0m\n\u001b[0;32m---> 55\u001b[0;31m     model.fit(\n\u001b[0m\u001b[1;32m     56\u001b[0m         \u001b[0mtrain_generator\u001b[0m\u001b[0;34m,\u001b[0m\u001b[0;34m\u001b[0m\u001b[0;34m\u001b[0m\u001b[0m\n\u001b[1;32m     57\u001b[0m         \u001b[0mepochs\u001b[0m\u001b[0;34m=\u001b[0m\u001b[0;36m8\u001b[0m\u001b[0;34m,\u001b[0m\u001b[0;34m\u001b[0m\u001b[0;34m\u001b[0m\u001b[0m\n",
            "\u001b[0;32m/usr/local/lib/python3.10/dist-packages/keras/src/utils/traceback_utils.py\u001b[0m in \u001b[0;36merror_handler\u001b[0;34m(*args, **kwargs)\u001b[0m\n\u001b[1;32m    120\u001b[0m             \u001b[0;31m# To get the full stack trace, call:\u001b[0m\u001b[0;34m\u001b[0m\u001b[0;34m\u001b[0m\u001b[0m\n\u001b[1;32m    121\u001b[0m             \u001b[0;31m# `keras.config.disable_traceback_filtering()`\u001b[0m\u001b[0;34m\u001b[0m\u001b[0;34m\u001b[0m\u001b[0m\n\u001b[0;32m--> 122\u001b[0;31m             \u001b[0;32mraise\u001b[0m \u001b[0me\u001b[0m\u001b[0;34m.\u001b[0m\u001b[0mwith_traceback\u001b[0m\u001b[0;34m(\u001b[0m\u001b[0mfiltered_tb\u001b[0m\u001b[0;34m)\u001b[0m \u001b[0;32mfrom\u001b[0m \u001b[0;32mNone\u001b[0m\u001b[0;34m\u001b[0m\u001b[0;34m\u001b[0m\u001b[0m\n\u001b[0m\u001b[1;32m    123\u001b[0m         \u001b[0;32mfinally\u001b[0m\u001b[0;34m:\u001b[0m\u001b[0;34m\u001b[0m\u001b[0;34m\u001b[0m\u001b[0m\n\u001b[1;32m    124\u001b[0m             \u001b[0;32mdel\u001b[0m \u001b[0mfiltered_tb\u001b[0m\u001b[0;34m\u001b[0m\u001b[0;34m\u001b[0m\u001b[0m\n",
            "\u001b[0;32m/usr/local/lib/python3.10/dist-packages/keras/src/backend/tensorflow/nn.py\u001b[0m in \u001b[0;36mcategorical_crossentropy\u001b[0;34m(target, output, from_logits, axis)\u001b[0m\n\u001b[1;32m    559\u001b[0m     \u001b[0;32mfor\u001b[0m \u001b[0me1\u001b[0m\u001b[0;34m,\u001b[0m \u001b[0me2\u001b[0m \u001b[0;32min\u001b[0m \u001b[0mzip\u001b[0m\u001b[0;34m(\u001b[0m\u001b[0mtarget\u001b[0m\u001b[0;34m.\u001b[0m\u001b[0mshape\u001b[0m\u001b[0;34m,\u001b[0m \u001b[0moutput\u001b[0m\u001b[0;34m.\u001b[0m\u001b[0mshape\u001b[0m\u001b[0;34m)\u001b[0m\u001b[0;34m:\u001b[0m\u001b[0;34m\u001b[0m\u001b[0;34m\u001b[0m\u001b[0m\n\u001b[1;32m    560\u001b[0m         \u001b[0;32mif\u001b[0m \u001b[0me1\u001b[0m \u001b[0;32mis\u001b[0m \u001b[0;32mnot\u001b[0m \u001b[0;32mNone\u001b[0m \u001b[0;32mand\u001b[0m \u001b[0me2\u001b[0m \u001b[0;32mis\u001b[0m \u001b[0;32mnot\u001b[0m \u001b[0;32mNone\u001b[0m \u001b[0;32mand\u001b[0m \u001b[0me1\u001b[0m \u001b[0;34m!=\u001b[0m \u001b[0me2\u001b[0m\u001b[0;34m:\u001b[0m\u001b[0;34m\u001b[0m\u001b[0;34m\u001b[0m\u001b[0m\n\u001b[0;32m--> 561\u001b[0;31m             raise ValueError(\n\u001b[0m\u001b[1;32m    562\u001b[0m                 \u001b[0;34m\"Arguments `target` and `output` must have the same shape. \"\u001b[0m\u001b[0;34m\u001b[0m\u001b[0;34m\u001b[0m\u001b[0m\n\u001b[1;32m    563\u001b[0m                 \u001b[0;34m\"Received: \"\u001b[0m\u001b[0;34m\u001b[0m\u001b[0;34m\u001b[0m\u001b[0m\n",
            "\u001b[0;31mValueError\u001b[0m: Arguments `target` and `output` must have the same shape. Received: target.shape=(None, 7), output.shape=(None, 6)"
          ]
        }
      ],
      "source": [
        "if __name__ == \"__main__\":\n",
        "    train_model()"
      ]
    }
  ],
  "metadata": {
    "jupytext": {
      "cell_metadata_filter": "-all",
      "main_language": "python",
      "notebook_metadata_filter": "-all"
    },
    "colab": {
      "provenance": [],
      "include_colab_link": true
    },
    "language_info": {
      "name": "python"
    },
    "kernelspec": {
      "name": "python3",
      "display_name": "Python 3"
    }
  },
  "nbformat": 4,
  "nbformat_minor": 5
}